{
  "nbformat": 4,
  "nbformat_minor": 0,
  "metadata": {
    "kernelspec": {
      "display_name": "Python 3",
      "language": "python",
      "name": "python3"
    },
    "language_info": {
      "codemirror_mode": {
        "name": "ipython",
        "version": 3
      },
      "file_extension": ".py",
      "mimetype": "text/x-python",
      "name": "python",
      "nbconvert_exporter": "python",
      "pygments_lexer": "ipython3",
      "version": "3.6.4"
    },
    "colab": {
      "name": "Brush up Python.ipynb",
      "version": "0.3.2",
      "provenance": []
    }
  },
  "cells": [
    {
      "cell_type": "markdown",
      "metadata": {
        "id": "Sh-lf4ZhZU9O",
        "colab_type": "text"
      },
      "source": [
        "## 1. Basics"
      ]
    },
    {
      "cell_type": "code",
      "metadata": {
        "id": "brD8EjgsZU9P",
        "colab_type": "code",
        "outputId": "3512267b-534d-41cc-f3a5-8ff78980bca6",
        "colab": {
          "base_uri": "https://localhost:8080/",
          "height": 34
        }
      },
      "source": [
        "# printing any value\n",
        "print(\"Hello\")"
      ],
      "execution_count": 1,
      "outputs": [
        {
          "output_type": "stream",
          "text": [
            "Hello\n"
          ],
          "name": "stdout"
        }
      ]
    },
    {
      "cell_type": "markdown",
      "metadata": {
        "id": "99yZ0HiPZU9U",
        "colab_type": "text"
      },
      "source": [
        "### Variable\n",
        "A variable is a reserved memory location to store values. A varaiable name must begin alphabet/underscore followed by alphabets/numbers/underscores"
      ]
    },
    {
      "cell_type": "code",
      "metadata": {
        "id": "ReRZBvpYZU9U",
        "colab_type": "code",
        "outputId": "9c3d13ae-8bcc-4da9-8a48-f55c09b5a17f",
        "colab": {
          "base_uri": "https://localhost:8080/",
          "height": 85
        }
      },
      "source": [
        "# python data types\n",
        "number = 3\n",
        "float_number = 99.99\n",
        "character = 'a'\n",
        "string = \"Hello, World!\"\n",
        "\n",
        "print(number, type(number))\n",
        "print(float_number, type(float_number))\n",
        "print(character, type(character))\n",
        "print(string, type(string))"
      ],
      "execution_count": 2,
      "outputs": [
        {
          "output_type": "stream",
          "text": [
            "3 <class 'int'>\n",
            "99.99 <class 'float'>\n",
            "a <class 'str'>\n",
            "Hello, World! <class 'str'>\n"
          ],
          "name": "stdout"
        }
      ]
    },
    {
      "cell_type": "code",
      "metadata": {
        "id": "kLKPrkqqZU9X",
        "colab_type": "code",
        "outputId": "dd977afc-63bf-4fa2-ba31-30c548e4acb3",
        "colab": {
          "base_uri": "https://localhost:8080/",
          "height": 102
        }
      },
      "source": [
        "# writing basic operations\n",
        "a = 6\n",
        "b = 2\n",
        "print(a+b)\n",
        "print(a-b)\n",
        "print(a*b)\n",
        "print(a/b)\n",
        "print(a%b)"
      ],
      "execution_count": 3,
      "outputs": [
        {
          "output_type": "stream",
          "text": [
            "8\n",
            "4\n",
            "12\n",
            "3.0\n",
            "0\n"
          ],
          "name": "stdout"
        }
      ]
    },
    {
      "cell_type": "code",
      "metadata": {
        "id": "LuM-oW_-ZU9Y",
        "colab_type": "code",
        "outputId": "623b0a34-dcff-45c0-ffc8-35d25caf2c0b",
        "colab": {
          "base_uri": "https://localhost:8080/",
          "height": 51
        }
      },
      "source": [
        "# getting input \n",
        "number = input(\"Enter a number: \")\n",
        "\n",
        "print(number, type(number))"
      ],
      "execution_count": 4,
      "outputs": [
        {
          "output_type": "stream",
          "text": [
            "Enter a number: 10\n",
            "10 <class 'str'>\n"
          ],
          "name": "stdout"
        }
      ]
    },
    {
      "cell_type": "code",
      "metadata": {
        "id": "Mj8kXThdZU9b",
        "colab_type": "code",
        "outputId": "60f2a0b3-768e-47ea-de50-51c6e7cd4e98",
        "colab": {
          "base_uri": "https://localhost:8080/",
          "height": 68
        }
      },
      "source": [
        "# casting string to integer\n",
        "number = int(input(\"Enter a number: \"))\n",
        "\n",
        "print(number, type(number))\n",
        "print(\"Square of the number:\", number**2)"
      ],
      "execution_count": 5,
      "outputs": [
        {
          "output_type": "stream",
          "text": [
            "Enter a number: 15\n",
            "15 <class 'int'>\n",
            "Square of the number: 225\n"
          ],
          "name": "stdout"
        }
      ]
    },
    {
      "cell_type": "markdown",
      "metadata": {
        "id": "mIj_DMiXZU9d",
        "colab_type": "text"
      },
      "source": [
        "## 3. Python Built-in Data Structures"
      ]
    },
    {
      "cell_type": "markdown",
      "metadata": {
        "id": "TjxTu_xoZU9d",
        "colab_type": "text"
      },
      "source": [
        "### 3.1. List\n",
        "* List is an ordered collection of data. \n",
        "* It is mutable and allow duplicates. \n",
        "* It list is created by enclosing the data items with in square brackets delimited by \",\""
      ]
    },
    {
      "cell_type": "code",
      "metadata": {
        "id": "BmngY-4pZU9e",
        "colab_type": "code",
        "outputId": "b295edce-3706-4952-e099-7f7a5ec8dab3",
        "colab": {
          "base_uri": "https://localhost:8080/",
          "height": 34
        }
      },
      "source": [
        "# Creating a list\n",
        "marks = [35, 68, 96, 80, 90]\n",
        "\n",
        "print(marks)"
      ],
      "execution_count": 6,
      "outputs": [
        {
          "output_type": "stream",
          "text": [
            "[35, 68, 96, 80, 90]\n"
          ],
          "name": "stdout"
        }
      ]
    },
    {
      "cell_type": "code",
      "metadata": {
        "id": "94naGVszZU9g",
        "colab_type": "code",
        "outputId": "95d535e2-8c2f-416f-a9ec-8afd9466401e",
        "colab": {
          "base_uri": "https://localhost:8080/",
          "height": 85
        }
      },
      "source": [
        "# Indexing list elements\n",
        "print(\"marks[0] : %d\" % marks[0])\n",
        "print(\"marks[len(marks)-1] : %d\" % marks[len(marks)-1])\n",
        "print(\"marks[-1] : %d\" % marks[-1])\n",
        "print(\"second last item in the list MARK : %d\" % marks[-2])"
      ],
      "execution_count": 7,
      "outputs": [
        {
          "output_type": "stream",
          "text": [
            "marks[0] : 35\n",
            "marks[len(marks)-1] : 90\n",
            "marks[-1] : 90\n",
            "second last item in the list MARK : 80\n"
          ],
          "name": "stdout"
        }
      ]
    },
    {
      "cell_type": "code",
      "metadata": {
        "id": "sh9zEO-2ZU9i",
        "colab_type": "code",
        "outputId": "0b6bce34-4b34-44fd-f132-a4fde5b72292",
        "colab": {
          "base_uri": "https://localhost:8080/",
          "height": 34
        }
      },
      "source": [
        "# Modifying list elemets\n",
        "marks[0] = 38\n",
        "\n",
        "print(marks)"
      ],
      "execution_count": 8,
      "outputs": [
        {
          "output_type": "stream",
          "text": [
            "[38, 68, 96, 80, 90]\n"
          ],
          "name": "stdout"
        }
      ]
    },
    {
      "cell_type": "code",
      "metadata": {
        "id": "65p4j1rNZU9k",
        "colab_type": "code",
        "outputId": "c096ba69-1dbd-46e3-a9e4-d5faa649d436",
        "colab": {
          "base_uri": "https://localhost:8080/",
          "height": 102
        }
      },
      "source": [
        "# Slicing the list\n",
        "# Syntax: list[start:end(exclusive)]\n",
        "print(marks[0:len(marks)])\n",
        "print(marks[:len(marks)])\n",
        "print(marks[0:])\n",
        "print(marks[:])\n",
        "\n",
        "print(marks[2:4])"
      ],
      "execution_count": 10,
      "outputs": [
        {
          "output_type": "stream",
          "text": [
            "[38, 68, 96, 80, 90]\n",
            "[38, 68, 96, 80, 90]\n",
            "[38, 68, 96, 80, 90]\n",
            "[38, 68, 96, 80, 90]\n",
            "[96, 80]\n"
          ],
          "name": "stdout"
        }
      ]
    },
    {
      "cell_type": "code",
      "metadata": {
        "id": "lni1EE0MZU9n",
        "colab_type": "code",
        "outputId": "9f43a6a4-37d2-4ac2-bce4-d3315bbb7cf1",
        "colab": {
          "base_uri": "https://localhost:8080/",
          "height": 136
        }
      },
      "source": [
        "# Adding and removing list elements\n",
        "marks.append(89)\n",
        "print(marks)\n",
        "\n",
        "marks.insert(1, 70)\n",
        "print(marks)\n",
        "\n",
        "marks.insert(4,99)\n",
        "print(marks)\n",
        "\n",
        "marks.remove(70)\n",
        "print(marks)\n",
        "\n",
        "marks.remove(99)\n",
        "print(marks)\n",
        "\n",
        "marks.reverse\n",
        "print(\"Tried reverse : \" , marks)\n",
        "\n",
        "revMarks = marks.reverse\n",
        "print(revMarks)"
      ],
      "execution_count": 15,
      "outputs": [
        {
          "output_type": "stream",
          "text": [
            "[38, 68, 96, 99, 80, 90, 89, 89, 89, 89, 89]\n",
            "[38, 70, 68, 96, 99, 80, 90, 89, 89, 89, 89, 89]\n",
            "[38, 70, 68, 96, 99, 99, 80, 90, 89, 89, 89, 89, 89]\n",
            "[38, 68, 96, 99, 99, 80, 90, 89, 89, 89, 89, 89]\n",
            "[38, 68, 96, 99, 80, 90, 89, 89, 89, 89, 89]\n",
            "Tried reverse :  [38, 68, 96, 99, 80, 90, 89, 89, 89, 89, 89]\n",
            "<built-in method reverse of list object at 0x7fe5ae054808>\n"
          ],
          "name": "stdout"
        }
      ]
    },
    {
      "cell_type": "code",
      "metadata": {
        "id": "7O4Sf2UkZU9p",
        "colab_type": "code",
        "outputId": "cc4fc713-ee15-4f78-b689-0eef35805c76",
        "colab": {
          "base_uri": "https://localhost:8080/",
          "height": 51
        }
      },
      "source": [
        "# sorting list elements\n",
        "print(sorted(marks))\n",
        "print(sorted(marks, reverse=True))"
      ],
      "execution_count": 16,
      "outputs": [
        {
          "output_type": "stream",
          "text": [
            "[38, 68, 80, 89, 89, 89, 89, 89, 90, 96, 99]\n",
            "[99, 96, 90, 89, 89, 89, 89, 89, 80, 68, 38]\n"
          ],
          "name": "stdout"
        }
      ]
    },
    {
      "cell_type": "code",
      "metadata": {
        "id": "y1HQTlU1ZU9r",
        "colab_type": "code",
        "outputId": "6d31b3b8-3746-46e3-d867-cbda59b26ce2",
        "colab": {
          "base_uri": "https://localhost:8080/",
          "height": 51
        }
      },
      "source": [
        "# List Comprehesion\n",
        "pass_mark = 50\n",
        "marks_new = [mark for mark in marks if mark > pass_mark]\n",
        "print(marks_new)\n",
        "\n",
        "marks_over_80 = [mark for mark in marks if mark > 80]\n",
        "print(marks_over_80)"
      ],
      "execution_count": 17,
      "outputs": [
        {
          "output_type": "stream",
          "text": [
            "[68, 96, 99, 80, 90, 89, 89, 89, 89, 89]\n",
            "[96, 99, 90, 89, 89, 89, 89, 89]\n"
          ],
          "name": "stdout"
        }
      ]
    },
    {
      "cell_type": "markdown",
      "metadata": {
        "id": "Zdu-1uKYZU9t",
        "colab_type": "text"
      },
      "source": [
        "### 3.2. Tuple\n",
        "* Tuple is an ordered collection of data. \n",
        "* It is immutable and allow duplicates. \n",
        "* It list is created by enclosing the data items with in round brackets delimited by \",\""
      ]
    },
    {
      "cell_type": "code",
      "metadata": {
        "id": "tZJ_ad1QZU9u",
        "colab_type": "code",
        "outputId": "edc70d97-5600-41e0-8b25-06cccf6a7f6c",
        "colab": {
          "base_uri": "https://localhost:8080/",
          "height": 34
        }
      },
      "source": [
        "# Creating a tuple\n",
        "marks = (35, 68, 96, 80, 90)\n",
        "\n",
        "print(marks)"
      ],
      "execution_count": 18,
      "outputs": [
        {
          "output_type": "stream",
          "text": [
            "(35, 68, 96, 80, 90)\n"
          ],
          "name": "stdout"
        }
      ]
    },
    {
      "cell_type": "code",
      "metadata": {
        "id": "WpSb0qQ3ZU9w",
        "colab_type": "code",
        "outputId": "6f643e5f-79c9-426d-c365-242a68f1b3b2",
        "colab": {
          "base_uri": "https://localhost:8080/",
          "height": 68
        }
      },
      "source": [
        "# Indexing tuple elements\n",
        "print(\"marks[0] : %d\" % marks[0])\n",
        "print(\"marks[len(marks)-1] : %d\" % marks[len(marks)-1])\n",
        "print(\"marks[-1] : %d\" % marks[-1])"
      ],
      "execution_count": 19,
      "outputs": [
        {
          "output_type": "stream",
          "text": [
            "marks[0] : 35\n",
            "marks[len(marks)-1] : 90\n",
            "marks[-1] : 90\n"
          ],
          "name": "stdout"
        }
      ]
    },
    {
      "cell_type": "code",
      "metadata": {
        "id": "FfX5QUrMZU9y",
        "colab_type": "code",
        "outputId": "ff215ee7-5c5c-4154-f8b5-2f721d832086",
        "colab": {
          "base_uri": "https://localhost:8080/",
          "height": 34
        }
      },
      "source": [
        "#  Note: We cannot modify the elemnts in a tuple\n",
        "\n",
        "#marks[0] = 38\n",
        "\n",
        "print(marks)"
      ],
      "execution_count": 20,
      "outputs": [
        {
          "output_type": "stream",
          "text": [
            "(35, 68, 96, 80, 90)\n"
          ],
          "name": "stdout"
        }
      ]
    },
    {
      "cell_type": "code",
      "metadata": {
        "id": "IDOY-Kh8ZU90",
        "colab_type": "code",
        "outputId": "aaf58695-d8dd-40af-d8a5-f85df479ede5",
        "colab": {
          "base_uri": "https://localhost:8080/",
          "height": 102
        }
      },
      "source": [
        "# Slicing the tuple\n",
        "# Syntax: tuple[start:end(exclusive)]\n",
        "print(marks[0:len(marks)])\n",
        "print(marks[:len(marks)])\n",
        "print(marks[0:])\n",
        "print(marks[:])\n",
        "\n",
        "print(marks[2:4])"
      ],
      "execution_count": 21,
      "outputs": [
        {
          "output_type": "stream",
          "text": [
            "(35, 68, 96, 80, 90)\n",
            "(35, 68, 96, 80, 90)\n",
            "(35, 68, 96, 80, 90)\n",
            "(35, 68, 96, 80, 90)\n",
            "(96, 80)\n"
          ],
          "name": "stdout"
        }
      ]
    },
    {
      "cell_type": "code",
      "metadata": {
        "id": "_VCcS3CXZU92",
        "colab_type": "code",
        "outputId": "a525214d-878a-4011-e5f4-4fd38d5eb4f8",
        "colab": {
          "base_uri": "https://localhost:8080/",
          "height": 34
        }
      },
      "source": [
        "# tuple Comprehesion\n",
        "pass_mark = 50\n",
        "marks_new = tuple((mark for mark in marks if mark > pass_mark))\n",
        "print(marks_new)"
      ],
      "execution_count": 23,
      "outputs": [
        {
          "output_type": "stream",
          "text": [
            "(68, 96, 80, 90)\n"
          ],
          "name": "stdout"
        }
      ]
    },
    {
      "cell_type": "markdown",
      "metadata": {
        "id": "xGAfmskwZU94",
        "colab_type": "text"
      },
      "source": [
        "### 3.3. Set\n",
        "* Set is an unordered collection of data. \n",
        "* It is mutable and does not allow duplicates. \n",
        "* It is created by enclosing the data items with in curly brackets delimited by \",\""
      ]
    },
    {
      "cell_type": "code",
      "metadata": {
        "id": "ZuEWHCAbZU95",
        "colab_type": "code",
        "outputId": "8fbf687b-5c0d-4868-94e3-febab26fdb8e",
        "colab": {
          "base_uri": "https://localhost:8080/",
          "height": 34
        }
      },
      "source": [
        "cities = {\"Madras\", \"Delhi\", \"Bombay\", \"Calcutta\", \"Madras\"}\n",
        "\n",
        "print(cities)"
      ],
      "execution_count": 24,
      "outputs": [
        {
          "output_type": "stream",
          "text": [
            "{'Bombay', 'Delhi', 'Madras', 'Calcutta'}\n"
          ],
          "name": "stdout"
        }
      ]
    },
    {
      "cell_type": "code",
      "metadata": {
        "id": "-S6-NzK6ZU97",
        "colab_type": "code",
        "outputId": "1f85be51-3d73-4fb7-8625-d6e29b3d8555",
        "colab": {
          "base_uri": "https://localhost:8080/",
          "height": 85
        }
      },
      "source": [
        "# Set Operations\n",
        "\n",
        "a = {1, 2, 3, 4}\n",
        "b = {4, 5, 6}\n",
        "\n",
        "# Set Union\n",
        "print(a | b)\n",
        "\n",
        "# Set Intersection\n",
        "print(a & b)\n",
        "\n",
        "# Set Difference\n",
        "print(a - b)\n",
        "\n",
        "# Symmetric Difference\n",
        "print(a ^ b)"
      ],
      "execution_count": 25,
      "outputs": [
        {
          "output_type": "stream",
          "text": [
            "{1, 2, 3, 4, 5, 6}\n",
            "{4}\n",
            "{1, 2, 3}\n",
            "{1, 2, 3, 5, 6}\n"
          ],
          "name": "stdout"
        }
      ]
    },
    {
      "cell_type": "code",
      "metadata": {
        "id": "5xkc4uXNZU-B",
        "colab_type": "code",
        "outputId": "6a96f663-0f24-4e69-c285-88d8be713923",
        "colab": {
          "base_uri": "https://localhost:8080/",
          "height": 51
        }
      },
      "source": [
        "# Adding and removing set elements\n",
        "a.add(7)\n",
        "print(a)\n",
        "\n",
        "a.remove(7)\n",
        "print(a)"
      ],
      "execution_count": 26,
      "outputs": [
        {
          "output_type": "stream",
          "text": [
            "{1, 2, 3, 4, 7}\n",
            "{1, 2, 3, 4}\n"
          ],
          "name": "stdout"
        }
      ]
    },
    {
      "cell_type": "markdown",
      "metadata": {
        "id": "izBRU73cZU-F",
        "colab_type": "text"
      },
      "source": [
        "### 3.4. Dictionary\n",
        "* Dictionary is an unordered collection of key-values pairs. \n",
        "* It is mutable. \n",
        "* It is created by enclosing the key-value parirs (key:value) with in curly brackets delimited by \",\""
      ]
    },
    {
      "cell_type": "code",
      "metadata": {
        "id": "K8CvigEFZU-G",
        "colab_type": "code",
        "outputId": "fa0702af-2796-43d0-a541-5b81b32a0cad",
        "colab": {}
      },
      "source": [
        "student = {\"name\":\"Gokul\", \"reg_no\":\"15IT026\", \"course\":\"BTech\"}\n",
        "\n",
        "print(student)"
      ],
      "execution_count": 0,
      "outputs": [
        {
          "output_type": "stream",
          "text": [
            "{'name': 'Gokul', 'reg_no': '15IT026', 'course': 'BTech'}\n"
          ],
          "name": "stdout"
        }
      ]
    },
    {
      "cell_type": "code",
      "metadata": {
        "id": "36KFTrzjZU-I",
        "colab_type": "code",
        "outputId": "62cc9427-b536-429a-f154-7c81c407f533",
        "colab": {}
      },
      "source": [
        "# Accessing elements\n",
        "print(student[\"course\"])\n",
        "\n",
        "for key, value in student.items():\n",
        "    print(\"Key: %s ; Value: %s\" % (key, value))"
      ],
      "execution_count": 0,
      "outputs": [
        {
          "output_type": "stream",
          "text": [
            "BTech\n",
            "Key: name ; Value: Gokul\n",
            "Key: reg_no ; Value: 15IT026\n",
            "Key: course ; Value: BTech\n"
          ],
          "name": "stdout"
        }
      ]
    },
    {
      "cell_type": "markdown",
      "metadata": {
        "id": "hSrUd2-AZU-K",
        "colab_type": "text"
      },
      "source": [
        "### 3.5. String\n",
        "* A string is a sequence of charactes\n",
        "* It is immutable. \n",
        "* It is created by enclosing text with single/double/triple quotes"
      ]
    },
    {
      "cell_type": "code",
      "metadata": {
        "id": "qMcsKXwPZU-L",
        "colab_type": "code",
        "outputId": "6be88dda-5d16-4006-aa0c-3767a335d64d",
        "colab": {}
      },
      "source": [
        "word = \"Malayalam\"\n",
        "print(word)"
      ],
      "execution_count": 0,
      "outputs": [
        {
          "output_type": "stream",
          "text": [
            "Malayalam\n"
          ],
          "name": "stdout"
        }
      ]
    },
    {
      "cell_type": "code",
      "metadata": {
        "id": "pzDFIDE2ZU-N",
        "colab_type": "code",
        "outputId": "1533059f-63f9-4d0c-c002-1ffc26e46a68",
        "colab": {}
      },
      "source": [
        "# String operations\n",
        "\n",
        "print(word.lower())\n",
        "print(word.upper())\n",
        "print(len(word))\n",
        "print(word.startswith(\"A\"))\n",
        "print(word.endswith(\"m\"))"
      ],
      "execution_count": 0,
      "outputs": [
        {
          "output_type": "stream",
          "text": [
            "malayalam\n",
            "MALAYALAM\n",
            "9\n",
            "False\n",
            "True\n"
          ],
          "name": "stdout"
        }
      ]
    },
    {
      "cell_type": "code",
      "metadata": {
        "id": "rasPTo79ZU-P",
        "colab_type": "code",
        "outputId": "1c7bb05e-f223-4083-cb8b-a6f938438a3d",
        "colab": {}
      },
      "source": [
        "# Slicing the string\n",
        "print(word[0:5])"
      ],
      "execution_count": 0,
      "outputs": [
        {
          "output_type": "stream",
          "text": [
            "Malay\n"
          ],
          "name": "stdout"
        }
      ]
    },
    {
      "cell_type": "code",
      "metadata": {
        "id": "b7kXa3-UZU-R",
        "colab_type": "code",
        "outputId": "e66990f3-fa3f-4655-c89e-1eae1d7ded2e",
        "colab": {}
      },
      "source": [
        "# Coverting string to a list of characters\n",
        "print(list(word))"
      ],
      "execution_count": 0,
      "outputs": [
        {
          "output_type": "stream",
          "text": [
            "['M', 'a', 'l', 'a', 'y', 'a', 'l', 'a', 'm']\n"
          ],
          "name": "stdout"
        }
      ]
    },
    {
      "cell_type": "code",
      "metadata": {
        "id": "ccAERoRMZU-S",
        "colab_type": "code",
        "outputId": "329434e3-e6eb-42e6-db24-5f5d25749467",
        "colab": {}
      },
      "source": [
        "# splitting the text\n",
        "sentence = \"I love deep learning\"\n",
        "words = sentence.split(\" \")\n",
        "print(words)"
      ],
      "execution_count": 0,
      "outputs": [
        {
          "output_type": "stream",
          "text": [
            "['I', 'love', 'deep', 'learning']\n"
          ],
          "name": "stdout"
        }
      ]
    },
    {
      "cell_type": "code",
      "metadata": {
        "id": "c8YOzMclZU-V",
        "colab_type": "code",
        "outputId": "c2b2fa25-9277-4d40-b3dc-67606c268b4c",
        "colab": {}
      },
      "source": [
        "# finding length of a list\n",
        "print(len(words))"
      ],
      "execution_count": 0,
      "outputs": [
        {
          "output_type": "stream",
          "text": [
            "4\n"
          ],
          "name": "stdout"
        }
      ]
    },
    {
      "cell_type": "markdown",
      "metadata": {
        "id": "P6s-_by0ZU-Y",
        "colab_type": "text"
      },
      "source": [
        "## 4. Control Structures\n",
        "\n",
        "<b>'if...else' syntax:</b>\n",
        "    \n",
        "    if CONDITION:\n",
        "        code block 1\n",
        "    elif CONDITION:\n",
        "        code block 2\n",
        "    ...\n",
        "    else:\n",
        "        code block n"
      ]
    },
    {
      "cell_type": "code",
      "metadata": {
        "id": "nhgiv-Z9ZU-Y",
        "colab_type": "code",
        "colab": {}
      },
      "source": [
        "a = 3\n",
        "b = 5\n",
        "\n",
        "if a > b:\n",
        "    print(\"a is greater than b\")"
      ],
      "execution_count": 0,
      "outputs": []
    },
    {
      "cell_type": "code",
      "metadata": {
        "id": "pqbld7EPZU-c",
        "colab_type": "code",
        "outputId": "f7d0adb4-84e3-4296-abef-9f42386e3314",
        "colab": {}
      },
      "source": [
        "if a > b:\n",
        "    print(\"a is greater than b\")\n",
        "else:\n",
        "    print(\"b is greater than a\")"
      ],
      "execution_count": 0,
      "outputs": [
        {
          "output_type": "stream",
          "text": [
            "b is greater than a\n"
          ],
          "name": "stdout"
        }
      ]
    },
    {
      "cell_type": "code",
      "metadata": {
        "id": "5zCb5B3jZU-d",
        "colab_type": "code",
        "outputId": "0296e52a-9a33-4196-e1bb-eb977a7c3ba5",
        "colab": {}
      },
      "source": [
        "score = 80\n",
        "grade = None\n",
        "\n",
        "if score > 90:\n",
        "    grade = \"A\"\n",
        "elif score > 80:    \n",
        "    grade = \"B\"\n",
        "elif score > 70:    \n",
        "    grade = \"C\"\n",
        "elif score > 60:    \n",
        "    grade = \"D\"\n",
        "elif score > 50:    \n",
        "    grade = \"E\"\n",
        "else:\n",
        "    grade = \"F\"\n",
        "    \n",
        "print(\"Grade: \" + grade)"
      ],
      "execution_count": 0,
      "outputs": [
        {
          "output_type": "stream",
          "text": [
            "Grade: C\n"
          ],
          "name": "stdout"
        }
      ]
    },
    {
      "cell_type": "markdown",
      "metadata": {
        "id": "r7FQhNwAZU-g",
        "colab_type": "text"
      },
      "source": [
        "<b>'for' syntax:</b>\n",
        "    \n",
        "    for ELEMENT in SEQUENCE:\n",
        "        code block"
      ]
    },
    {
      "cell_type": "code",
      "metadata": {
        "id": "mbLjcucHZU-g",
        "colab_type": "code",
        "outputId": "f96bf2ad-3487-4be2-bc6a-ea17ccfc71ba",
        "colab": {}
      },
      "source": [
        "ofl_team = [\"mitesh\", \"pratyush\", \"ananya\", \"rohith\", \"prem\", \"gokul\"]\n",
        "for person in ofl_team:\n",
        "    mail = person + \"@onefourthlabs.com\"\n",
        "    print(mail)"
      ],
      "execution_count": 0,
      "outputs": [
        {
          "output_type": "stream",
          "text": [
            "mitesh@onefourthlabs.com\n",
            "pratyush@onefourthlabs.com\n",
            "ananya@onefourthlabs.com\n",
            "rohith@onefourthlabs.com\n",
            "prem@onefourthlabs.com\n",
            "gokul@onefourthlabs.com\n"
          ],
          "name": "stdout"
        }
      ]
    },
    {
      "cell_type": "code",
      "metadata": {
        "id": "XFcCnUVLZU-h",
        "colab_type": "code",
        "outputId": "d165886d-aa18-4bad-d930-551312e72fa3",
        "colab": {}
      },
      "source": [
        "for i in range(len(ofl_team)):\n",
        "    mail = ofl_team[i] + \"@onefourthlabs.com\"\n",
        "    print(mail)"
      ],
      "execution_count": 0,
      "outputs": [
        {
          "output_type": "stream",
          "text": [
            "mitesh@onefourthlabs.com\n",
            "pratyush@onefourthlabs.com\n",
            "ananya@onefourthlabs.com\n",
            "rohith@onefourthlabs.com\n",
            "prem@onefourthlabs.com\n",
            "gokul@onefourthlabs.com\n"
          ],
          "name": "stdout"
        }
      ]
    },
    {
      "cell_type": "markdown",
      "metadata": {
        "id": "KmJraQvUZU-j",
        "colab_type": "text"
      },
      "source": [
        "<b>'while' syntax:</b>\n",
        "    \n",
        "    while CONDITION:\n",
        "        code block"
      ]
    },
    {
      "cell_type": "code",
      "metadata": {
        "id": "_Yv7_GpoZU-j",
        "colab_type": "code",
        "outputId": "d497aaa8-bea1-44e0-8f19-95a03b70fef0",
        "colab": {}
      },
      "source": [
        "n = int(input(\"Enter a number: \"))\n",
        "\n",
        "n_factorial = 1\n",
        "x = 2\n",
        "while x <= n:\n",
        "    n_factorial = n_factorial * x\n",
        "    x = x+1\n",
        "    \n",
        "print(\"%d! = %d\" % (n, n_factorial))"
      ],
      "execution_count": 0,
      "outputs": [
        {
          "output_type": "stream",
          "text": [
            "Enter a number: 5\n",
            "5! = 120\n"
          ],
          "name": "stdout"
        }
      ]
    },
    {
      "cell_type": "markdown",
      "metadata": {
        "id": "x40uAbp0ZU-l",
        "colab_type": "text"
      },
      "source": [
        "## 5. Functions\n",
        "* A function is a block of code that can be reused. \n",
        "* It is defined using the 'def' keyword in python."
      ]
    },
    {
      "cell_type": "markdown",
      "metadata": {
        "id": "4N20I_EDZU-l",
        "colab_type": "text"
      },
      "source": [
        "<b>Function syntax:</b>\n",
        "\n",
        "    def function_name(parameters):\n",
        "        code...\n",
        "        return value"
      ]
    },
    {
      "cell_type": "code",
      "metadata": {
        "id": "yY6_ZM60ZU-l",
        "colab_type": "code",
        "colab": {}
      },
      "source": [
        "# Defining the function\n",
        "def area_of_square(length, breadth):\n",
        "    area = length*breadth\n",
        "    return area"
      ],
      "execution_count": 0,
      "outputs": []
    },
    {
      "cell_type": "code",
      "metadata": {
        "id": "DhU1bYWaZU-n",
        "colab_type": "code",
        "outputId": "fdb33326-3f90-4ae9-d2b2-0ffc71ee2cf1",
        "colab": {}
      },
      "source": [
        "# Calling the function\n",
        "area_of_square(2, 3)"
      ],
      "execution_count": 0,
      "outputs": [
        {
          "output_type": "execute_result",
          "data": {
            "text/plain": [
              "6"
            ]
          },
          "metadata": {
            "tags": []
          },
          "execution_count": 36
        }
      ]
    },
    {
      "cell_type": "code",
      "metadata": {
        "id": "bm7ae9TdZU-o",
        "colab_type": "code",
        "outputId": "96db5a94-86d9-484a-c81b-44e21d6ebd21",
        "colab": {}
      },
      "source": [
        "# Function with default arguments\n",
        "def greet(name=\"\"):\n",
        "    print(\"Hello \" + name)\n",
        "\n",
        "greet(\"Harish\")\n",
        "greet()"
      ],
      "execution_count": 0,
      "outputs": [
        {
          "output_type": "stream",
          "text": [
            "Hello Harish\n",
            "Hello \n"
          ],
          "name": "stdout"
        }
      ]
    }
  ]
}